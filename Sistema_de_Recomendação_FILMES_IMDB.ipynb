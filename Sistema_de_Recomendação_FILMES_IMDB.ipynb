{
 "cells": [
  {
   "cell_type": "markdown",
   "metadata": {
    "id": "2wrs-UP6MvXj"
   },
   "source": [
    "<center><b><font size=\"+2\"> SISTEMA DE RECOMENDAÇÃO </font></b>\n"
   ]
  },
  {
   "cell_type": "code",
   "execution_count": 1,
   "metadata": {
    "id": "8rvfYyPLMvXl"
   },
   "outputs": [
    {
     "name": "stderr",
     "output_type": "stream",
     "text": [
      "C:\\ProgramData\\Anaconda3\\lib\\site-packages\\IPython\\core\\interactiveshell.py:3444: DtypeWarning: Columns (10) have mixed types.Specify dtype option on import or set low_memory=False.\n",
      "  exec(code_obj, self.user_global_ns, self.user_ns)\n"
     ]
    }
   ],
   "source": [
    "import pandas as pd\n",
    "import numpy as np\n",
    "import seaborn as sns\n",
    "import math\n",
    "from sklearn.feature_extraction.text import TfidfVectorizer, CountVectorizer\n",
    "from sklearn.metrics.pairwise import linear_kernel, cosine_similarity\n",
    "import matplotlib.pyplot as plt\n",
    "from ast import literal_eval\n",
    "import nltk\n",
    "from nltk.stem import SnowballStemmer\n",
    "\n",
    "df_movies = pd.read_csv(r'C:/Users/juliana/imbd_movies/movies_metadata.csv')\n",
    "df_credits = pd.read_csv(r'C:/Users/juliana/imbd_movies/credits.csv')\n",
    "df_keywords = pd.read_csv(r'C:/Users/juliana/imbd_movies/keywords.csv')\n",
    "links_small = pd.read_csv(r'C:/Users/juliana/imbd_movies/links_small.csv')"
   ]
  },
  {
   "cell_type": "code",
   "execution_count": 2,
   "metadata": {
    "id": "RY44yhvcMvXl"
   },
   "outputs": [],
   "source": [
    "def removeTextRows(df, columnName):\n",
    "    index_0=[]\n",
    "    \n",
    "    for i in df.itertuples():\n",
    "        myValue = getattr(i, columnName)\n",
    "        if(str.isdigit(myValue)):\n",
    "            index_0.append(i.Index)\n",
    "\n",
    "    df=df.loc[index_0] \n",
    "    df.reset_index(level=0, inplace=True)\n",
    "    return df   \n",
    "\n",
    "def weightedRating(x, m, C):\n",
    "    v = x['vote_count']\n",
    "    R = x['vote_average']\n",
    "    return (v/(v+m) * R) + (m/(m+v) * C)\n",
    "\n",
    "def getRecommendations(title, cosine_sim):\n",
    "    idx = indices[title]\n",
    "    sim_scores = list(enumerate(cosine_sim[idx]))\n",
    "    sim_scores = sorted(sim_scores, key=lambda x: x[1], reverse=True)\n",
    "    sim_scores = sim_scores[1:11]\n",
    "    movie_indices = [i[0] for i in sim_scores]\n",
    "    return df_movies['title'].iloc[movie_indices]\n",
    "\n",
    "def getDirector(x):\n",
    "    for i in x:\n",
    "        if i['job'] == 'Director':\n",
    "            return i['name']\n",
    "    return np.nan\n",
    "\n",
    "def filterKeywords(y):\n",
    "    words = []\n",
    "    for i in x:\n",
    "        if i in y:\n",
    "            words.append(i)\n",
    "    return words"
   ]
  },
  {
   "cell_type": "code",
   "execution_count": 3,
   "metadata": {
    "colab": {
     "base_uri": "https://localhost:8080/"
    },
    "id": "GfL1lQMpgGnd",
    "outputId": "ee1fe876-7edf-440f-c270-51ee5f4c8644"
   },
   "outputs": [
    {
     "data": {
      "text/html": [
       "<div>\n",
       "<style scoped>\n",
       "    .dataframe tbody tr th:only-of-type {\n",
       "        vertical-align: middle;\n",
       "    }\n",
       "\n",
       "    .dataframe tbody tr th {\n",
       "        vertical-align: top;\n",
       "    }\n",
       "\n",
       "    .dataframe thead th {\n",
       "        text-align: right;\n",
       "    }\n",
       "</style>\n",
       "<table border=\"1\" class=\"dataframe\">\n",
       "  <thead>\n",
       "    <tr style=\"text-align: right;\">\n",
       "      <th></th>\n",
       "      <th>title</th>\n",
       "      <th>vote_count</th>\n",
       "      <th>vote_average</th>\n",
       "      <th>score</th>\n",
       "    </tr>\n",
       "  </thead>\n",
       "  <tbody>\n",
       "    <tr>\n",
       "      <th>314</th>\n",
       "      <td>The Shawshank Redemption</td>\n",
       "      <td>8358.0</td>\n",
       "      <td>8.5</td>\n",
       "      <td>8.445870</td>\n",
       "    </tr>\n",
       "    <tr>\n",
       "      <th>837</th>\n",
       "      <td>The Godfather</td>\n",
       "      <td>6024.0</td>\n",
       "      <td>8.5</td>\n",
       "      <td>8.425439</td>\n",
       "    </tr>\n",
       "    <tr>\n",
       "      <th>10345</th>\n",
       "      <td>Dilwale Dulhania Le Jayenge</td>\n",
       "      <td>661.0</td>\n",
       "      <td>9.1</td>\n",
       "      <td>8.421458</td>\n",
       "    </tr>\n",
       "    <tr>\n",
       "      <th>12525</th>\n",
       "      <td>The Dark Knight</td>\n",
       "      <td>12269.0</td>\n",
       "      <td>8.3</td>\n",
       "      <td>8.265477</td>\n",
       "    </tr>\n",
       "    <tr>\n",
       "      <th>2854</th>\n",
       "      <td>Fight Club</td>\n",
       "      <td>9678.0</td>\n",
       "      <td>8.3</td>\n",
       "      <td>8.256385</td>\n",
       "    </tr>\n",
       "    <tr>\n",
       "      <th>292</th>\n",
       "      <td>Pulp Fiction</td>\n",
       "      <td>8670.0</td>\n",
       "      <td>8.3</td>\n",
       "      <td>8.251406</td>\n",
       "    </tr>\n",
       "    <tr>\n",
       "      <th>522</th>\n",
       "      <td>Schindler's List</td>\n",
       "      <td>4436.0</td>\n",
       "      <td>8.3</td>\n",
       "      <td>8.206640</td>\n",
       "    </tr>\n",
       "    <tr>\n",
       "      <th>23742</th>\n",
       "      <td>Whiplash</td>\n",
       "      <td>4376.0</td>\n",
       "      <td>8.3</td>\n",
       "      <td>8.205405</td>\n",
       "    </tr>\n",
       "    <tr>\n",
       "      <th>5501</th>\n",
       "      <td>Spirited Away</td>\n",
       "      <td>3968.0</td>\n",
       "      <td>8.3</td>\n",
       "      <td>8.196056</td>\n",
       "    </tr>\n",
       "    <tr>\n",
       "      <th>2219</th>\n",
       "      <td>Life Is Beautiful</td>\n",
       "      <td>3643.0</td>\n",
       "      <td>8.3</td>\n",
       "      <td>8.187173</td>\n",
       "    </tr>\n",
       "  </tbody>\n",
       "</table>\n",
       "</div>"
      ],
      "text/plain": [
       "                             title  vote_count  vote_average     score\n",
       "314       The Shawshank Redemption      8358.0           8.5  8.445870\n",
       "837                  The Godfather      6024.0           8.5  8.425439\n",
       "10345  Dilwale Dulhania Le Jayenge       661.0           9.1  8.421458\n",
       "12525              The Dark Knight     12269.0           8.3  8.265477\n",
       "2854                    Fight Club      9678.0           8.3  8.256385\n",
       "292                   Pulp Fiction      8670.0           8.3  8.251406\n",
       "522               Schindler's List      4436.0           8.3  8.206640\n",
       "23742                     Whiplash      4376.0           8.3  8.205405\n",
       "5501                 Spirited Away      3968.0           8.3  8.196056\n",
       "2219             Life Is Beautiful      3643.0           8.3  8.187173"
      ]
     },
     "execution_count": 3,
     "metadata": {},
     "output_type": "execute_result"
    }
   ],
   "source": [
    "df_movies['id'] = df_movies['id'].astype('string')\n",
    "df_movies['budget'] = df_movies['budget'].astype('string')\n",
    "df_movies = removeTextRows(df_movies,'budget')\n",
    "df_movies['budget']=pd.to_numeric(df_movies['budget'])\n",
    "df_movies['popularity']=pd.to_numeric(df_movies['popularity'])\n",
    "\n",
    "df_credits['id'] = df_credits['id'].astype('string')\n",
    "df_movies = df_movies.merge(df_credits, on='id')\n",
    "\n",
    "C= df_movies['vote_average'].mean()\n",
    "m= df_movies['vote_count'].quantile(0.9)\n",
    "\n",
    "q_movies = df_movies.copy().loc[df_movies['vote_count'] >= m]\n",
    "q_movies['score'] = weightedRating(q_movies,m,C)\n",
    "q_movies = q_movies.sort_values('score', ascending=False)\n",
    "q_movies[['title', 'vote_count', 'vote_average', 'score']].head(10)\n"
   ]
  },
  {
   "cell_type": "code",
   "execution_count": 4,
   "metadata": {
    "colab": {
     "base_uri": "https://localhost:8080/",
     "height": 368
    },
    "id": "BsKtzAZsMvXn",
    "outputId": "dd63308b-ad26-4e90-ad5c-69471ad6110e"
   },
   "outputs": [
    {
     "data": {
      "text/plain": [
       "Text(0.5, 1.0, 'Popular Movies')"
      ]
     },
     "execution_count": 4,
     "metadata": {},
     "output_type": "execute_result"
    },
    {
     "data": {
      "image/png": "[encoded data removed]",
      "text/plain": [
       "<Figure size 864x288 with 1 Axes>"
      ]
     },
     "metadata": {
      "needs_background": "light"
     },
     "output_type": "display_data"
    }
   ],
   "source": [
    "pop= df_movies.sort_values('popularity', ascending=False)\n",
    "\n",
    "plt.figure(figsize=(12,4))\n",
    "\n",
    "plt.barh(pop['title'].head(6),pop['popularity'].head(6), align='center',\n",
    "        color='skyblue')\n",
    "plt.gca().invert_yaxis()\n",
    "plt.xlabel(\"Popularity\")\n",
    "plt.title(\"Popular Movies\")\n"
   ]
  },
  {
   "cell_type": "markdown",
   "metadata": {
    "id": "Ol8mWjpWCMaC"
   },
   "source": [
    "<h3> Recomendação baseada na descrição do filme </h3>"
   ]
  },
  {
   "cell_type": "code",
   "execution_count": 5,
   "metadata": {
    "colab": {
     "base_uri": "https://localhost:8080/"
    },
    "id": "P-Ekcti6MvXn",
    "outputId": "37798ac0-da89-4d4f-fb54-a97245ecdb4b"
   },
   "outputs": [],
   "source": [
    "tfidf = TfidfVectorizer(stop_words='english')\n",
    "df_movies['overview'] = df_movies['overview'].fillna('')\n",
    "tfidf_matrix = tfidf.fit_transform(df_movies['overview'])\n",
    "tfidf_matrix.shape\n",
    "\n",
    "cosine_sim = linear_kernel(tfidf_matrix, tfidf_matrix)\n",
    "indices = pd.Series(df_movies.index, index=df_movies['title']).drop_duplicates()\n"
   ]
  },
  {
   "cell_type": "code",
   "execution_count": 6,
   "metadata": {
    "colab": {
     "base_uri": "https://localhost:8080/"
    },
    "id": "NE_A3OrTMvXn",
    "outputId": "c459a5f6-9a32-4b2e-dfe9-3c7afe0f8404"
   },
   "outputs": [
    {
     "data": {
      "text/plain": [
       "21114                      Take Me Home\n",
       "14431                   99 River Street\n",
       "28851                  Among the Living\n",
       "35855                            Diablo\n",
       "15195                      Chained Heat\n",
       "2593                 My Son the Fanatic\n",
       "14155                      Goodbye Solo\n",
       "1851                    Midnight Cowboy\n",
       "3292     We're Back! A Dinosaur's Story\n",
       "28991                            Schizo\n",
       "Name: title, dtype: object"
      ]
     },
     "execution_count": 6,
     "metadata": {},
     "output_type": "execute_result"
    }
   ],
   "source": [
    "getRecommendations('Taxi Driver',cosine_sim)"
   ]
  },
  {
   "cell_type": "markdown",
   "metadata": {
    "id": "nkUPPJJgB7JO"
   },
   "source": [
    "<h3> Recomendação baseada nos metadados (palavras-chaves, elenco e diretor)</h3>\n"
   ]
  },
  {
   "cell_type": "code",
   "execution_count": 7,
   "metadata": {
    "colab": {
     "base_uri": "https://localhost:8080/"
    },
    "id": "C4iERLV7MvXm",
    "outputId": "4f829344-dead-4f8e-e7c8-7fa9cc916b10",
    "scrolled": false
   },
   "outputs": [
    {
     "name": "stderr",
     "output_type": "stream",
     "text": [
      "C:\\Users\\JULIAN~1.PER\\AppData\\Local\\Temp/ipykernel_3308/2974363026.py:26: DeprecationWarning: The default dtype for empty Series will be 'object' instead of 'float64' in a future version. Specify a dtype explicitly to silence this warning.\n",
      "  y = df_linksmall_movies.apply(lambda x: pd.Series(x['keywords']),axis=1).stack().reset_index(level=1, drop=True)\n"
     ]
    }
   ],
   "source": [
    "df_keywords['id'] = df_keywords['id'].astype('string')\n",
    "\n",
    "df_movies = df_movies.merge(df_keywords, on='id')\n",
    "links_small.columns =['movieid','imdbId','id']\n",
    "links_small.dropna(inplace=True)\n",
    "links_small['id'] = links_small['id'].astype('int')\n",
    "links_small['id'] = links_small['id'].astype('string')\n",
    "\n",
    "df_linksmall_movies = df_movies.merge(links_small, on='id',how = 'inner')\n",
    "df_linksmall_movies['cast'] = df_linksmall_movies['cast'].apply(literal_eval)\n",
    "df_linksmall_movies['crew'] = df_linksmall_movies['crew'].apply(literal_eval)\n",
    "df_linksmall_movies['keywords'] = df_linksmall_movies['keywords'].apply(literal_eval)\n",
    "df_linksmall_movies['cast_size'] = df_linksmall_movies['cast'].apply(lambda x: len(x))\n",
    "df_linksmall_movies['crew_size'] = df_linksmall_movies['crew'].apply(lambda x: len(x))\n",
    "\n",
    "df_linksmall_movies['cast'] = df_linksmall_movies['cast'].apply(lambda x: [i['name'] for i in x] if isinstance(x, list) else [])\n",
    "df_linksmall_movies['cast'] = df_linksmall_movies['cast'].apply(lambda x: x[:3] if len(x) >=3 else x)\n",
    "df_linksmall_movies['cast'] = df_linksmall_movies['cast'].apply(lambda x: [str.lower(i.replace(\" \", \"\")) for i in x])\n",
    "\n",
    "df_linksmall_movies['keywords'] = df_linksmall_movies['keywords'].apply(lambda x: [i['name'] for i in x] if isinstance(x, list) else [])\n",
    "\n",
    "df_linksmall_movies['director'] = df_linksmall_movies['crew'].apply(getDirector)\n",
    "df_linksmall_movies['director'] = df_linksmall_movies['director'].astype('str').apply(lambda x: str.lower(x.replace(\" \", \"\")))\n",
    "df_linksmall_movies['director'] = df_linksmall_movies['director'].apply(lambda x: [x,x, x])\n",
    "\n",
    "y = df_linksmall_movies.apply(lambda x: pd.Series(x['keywords']),axis=1).stack().reset_index(level=1, drop=True)\n",
    "y.name = 'keyword'\n",
    "\n",
    "y = y.value_counts()\n",
    "y = y[y > 1]\n",
    "\n",
    "stemmer = nltk.stem.SnowballStemmer('english')\n",
    "\n",
    "def filterKeywords(x):\n",
    "    words = []\n",
    "    for i in x:\n",
    "        if i in y:\n",
    "            words.append(i)\n",
    "    return words\n",
    "\n",
    "df_linksmall_movies['keywords'] = df_linksmall_movies['keywords'].apply(filterKeywords)\n",
    "df_linksmall_movies['keywords'] = df_linksmall_movies['keywords'].apply(lambda x: [stemmer.stem(i) for i in x])\n",
    "df_linksmall_movies['keywords'] = df_linksmall_movies['keywords'].apply(lambda x: [str.lower(i.replace(\" \", \"\")) for i in x])\n",
    "df_linksmall_movies['soup'] = df_linksmall_movies['keywords'] + df_linksmall_movies['cast'] + df_linksmall_movies['director']\n",
    "df_linksmall_movies['soup'] = df_linksmall_movies['soup'].apply(lambda x: ' '.join(x))\n",
    "\n",
    "count = CountVectorizer(analyzer='word',ngram_range=(1, 2),min_df=0, stop_words='english')\n",
    "count_matrix = count.fit_transform(df_linksmall_movies['soup'])\n",
    "\n",
    "cosine_sim = cosine_similarity(count_matrix, count_matrix)\n",
    "\n",
    "df_linksmall_movies = df_linksmall_movies.reset_index()\n",
    "titles = df_linksmall_movies['title']\n",
    "indices = pd.Series(df_linksmall_movies.index, index=df_linksmall_movies['title'])"
   ]
  },
  {
   "cell_type": "code",
   "execution_count": 8,
   "metadata": {},
   "outputs": [
    {
     "data": {
      "text/plain": [
       "6199            Raising Victor Vargas\n",
       "2120               Young and Innocent\n",
       "4137                 The Gleaners & I\n",
       "4789                     Donnie Darko\n",
       "970                A Farewell to Arms\n",
       "2705    An American Werewolf in Paris\n",
       "983                      Maximum Risk\n",
       "8865                  Gates of Heaven\n",
       "7088                          Distant\n",
       "8713     The Heart Is a Lonely Hunter\n",
       "Name: title, dtype: object"
      ]
     },
     "execution_count": 8,
     "metadata": {},
     "output_type": "execute_result"
    }
   ],
   "source": [
    "getRecommendations('Star Wars',cosine_sim)"
   ]
  }
 ],
 "metadata": {
  "colab": {
   "provenance": []
  },
  "kernelspec": {
   "display_name": "Python 3 (ipykernel)",
   "language": "python",
   "name": "python3"
  },
  "language_info": {
   "codemirror_mode": {
    "name": "ipython",
    "version": 3
   },
   "file_extension": ".py",
   "mimetype": "text/x-python",
   "name": "python",
   "nbconvert_exporter": "python",
   "pygments_lexer": "ipython3",
   "version": "3.9.7"
  }
 },
 "nbformat": 4,
 "nbformat_minor": 1
}
