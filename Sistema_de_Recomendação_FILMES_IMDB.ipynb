{
 "cells": [
  {
   "cell_type": "markdown",
   "metadata": {
    "id": "2wrs-UP6MvXj"
   },
   "source": [
    "<center><b><font size=\"+2\"> SISTEMA DE RECOMENDAÇÃO </font></b>\n"
   ]
  },
  {
   "cell_type": "code",
   "execution_count": 1,
   "metadata": {
    "id": "8rvfYyPLMvXl"
   },
   "outputs": [
    {
     "name": "stderr",
     "output_type": "stream",
     "text": [
      "C:\\ProgramData\\Anaconda3\\lib\\site-packages\\IPython\\core\\interactiveshell.py:3444: DtypeWarning: Columns (10) have mixed types.Specify dtype option on import or set low_memory=False.\n",
      "  exec(code_obj, self.user_global_ns, self.user_ns)\n"
     ]
    }
   ],
   "source": [
    "import pandas as pd\n",
    "import numpy as np\n",
    "import seaborn as sns\n",
    "import math\n",
    "from sklearn.feature_extraction.text import TfidfVectorizer, CountVectorizer\n",
    "from sklearn.metrics.pairwise import linear_kernel, cosine_similarity\n",
    "import matplotlib.pyplot as plt\n",
    "from ast import literal_eval\n",
    "import nltk\n",
    "from nltk.stem import SnowballStemmer\n",
    "\n",
    "df_movies = pd.read_csv(r'C:/Users/juliana/imbd_movies/movies_metadata.csv')\n",
    "df_credits = pd.read_csv(r'C:/Users/juliana/imbd_movies/credits.csv')\n",
    "df_keywords = pd.read_csv(r'C:/Users/juliana/imbd_movies/keywords.csv')\n",
    "links_small = pd.read_csv(r'C:/Users/juliana/imbd_movies/links_small.csv')\n",
    "ratings_small = pd.read_csv(r'C:/Users/juliana/imbd_movies/ratings_small.csv')"
   ]
  },
  {
   "cell_type": "code",
   "execution_count": 2,
   "metadata": {
    "id": "RY44yhvcMvXl"
   },
   "outputs": [],
   "source": [
    "def removeTextRows(df, columnName):\n",
    "    index_0=[]\n",
    "    \n",
    "    for i in df.itertuples():\n",
    "        myValue = getattr(i, columnName)\n",
    "        if(str.isdigit(myValue)):\n",
    "            index_0.append(i.Index)\n",
    "\n",
    "    df=df.loc[index_0] \n",
    "    df.reset_index(level=0, inplace=True)\n",
    "    return df   \n",
    "\n",
    "def weightedRating(x, m, C):\n",
    "    v = x['vote_count']\n",
    "    R = x['vote_average']\n",
    "    return (v/(v+m) * R) + (m/(m+v) * C)\n",
    "\n",
    "def getRecommendations(title, cosine_sim):\n",
    "    idx = indices[title]\n",
    "    sim_scores = list(enumerate(cosine_sim[idx]))\n",
    "    sim_scores = sorted(sim_scores, key=lambda x: x[1], reverse=True)\n",
    "    sim_scores = sim_scores[1:11]\n",
    "    movie_indices = [i[0] for i in sim_scores]\n",
    "    return df_movies['title'].iloc[movie_indices]\n",
    "\n",
    "def getDirector(x):\n",
    "    for i in x:\n",
    "        if i['job'] == 'Director':\n",
    "            return i['name']\n",
    "    return np.nan\n",
    "\n",
    "def filterKeywords(y):\n",
    "    words = []\n",
    "    for i in x:\n",
    "        if i in y:\n",
    "            words.append(i)\n",
    "    return words"
   ]
  },
  {
   "cell_type": "code",
   "execution_count": 3,
   "metadata": {
    "colab": {
     "base_uri": "https://localhost:8080/"
    },
    "id": "GfL1lQMpgGnd",
    "outputId": "ee1fe876-7edf-440f-c270-51ee5f4c8644"
   },
   "outputs": [],
   "source": [
    "df_movies['id'] = df_movies['id'].astype('string')\n",
    "df_movies['budget'] = df_movies['budget'].astype('string')\n",
    "df_movies = removeTextRows(df_movies,'budget')\n",
    "df_movies['budget']=pd.to_numeric(df_movies['budget'])\n",
    "df_movies['popularity']=pd.to_numeric(df_movies['popularity'])\n",
    "\n",
    "df_credits['id'] = df_credits['id'].astype('string')\n",
    "df_movies = df_movies.merge(df_credits, on='id')\n"
   ]
  },
  {
   "cell_type": "code",
   "execution_count": 4,
   "metadata": {},
   "outputs": [],
   "source": [
    "df_movies = df_movies[:5000]"
   ]
  },
  {
   "cell_type": "markdown",
   "metadata": {
    "id": "Ol8mWjpWCMaC"
   },
   "source": [
    "<h3> Recomendação baseada na descrição do filme </h3>"
   ]
  },
  {
   "cell_type": "code",
   "execution_count": 5,
   "metadata": {
    "colab": {
     "base_uri": "https://localhost:8080/"
    },
    "id": "P-Ekcti6MvXn",
    "outputId": "37798ac0-da89-4d4f-fb54-a97245ecdb4b"
   },
   "outputs": [],
   "source": [
    "tfidf = TfidfVectorizer(stop_words='english')\n",
    "df_movies['overview'] = df_movies['overview'].fillna('')\n",
    "tfidf_matrix = tfidf.fit_transform(df_movies['overview'])\n",
    "tfidf_matrix.shape\n",
    "\n",
    "cosine_sim = linear_kernel(tfidf_matrix, tfidf_matrix)\n",
    "indices = pd.Series(df_movies.index, index=df_movies['title']).drop_duplicates()\n"
   ]
  },
  {
   "cell_type": "code",
   "execution_count": 6,
   "metadata": {
    "colab": {
     "base_uri": "https://localhost:8080/"
    },
    "id": "NE_A3OrTMvXn",
    "outputId": "c459a5f6-9a32-4b2e-dfe9-3c7afe0f8404"
   },
   "outputs": [
    {
     "data": {
      "text/plain": [
       "2593                My Son the Fanatic\n",
       "1851                   Midnight Cowboy\n",
       "3292    We're Back! A Dinosaur's Story\n",
       "4364                      Biloxi Blues\n",
       "3367                    Jacob's Ladder\n",
       "1469                 The Fifth Element\n",
       "4821                  The Exterminator\n",
       "335                            The War\n",
       "2076                       Family Plot\n",
       "3333                  Band of the Hand\n",
       "Name: title, dtype: object"
      ]
     },
     "execution_count": 6,
     "metadata": {},
     "output_type": "execute_result"
    }
   ],
   "source": [
    "getRecommendations('Taxi Driver',cosine_sim)"
   ]
  },
  {
   "cell_type": "markdown",
   "metadata": {
    "id": "nkUPPJJgB7JO"
   },
   "source": [
    "<h3> Recomendação baseada nos metadados (palavras-chaves, elenco e diretor)</h3>\n"
   ]
  },
  {
   "cell_type": "code",
   "execution_count": 7,
   "metadata": {
    "colab": {
     "base_uri": "https://localhost:8080/"
    },
    "id": "C4iERLV7MvXm",
    "outputId": "4f829344-dead-4f8e-e7c8-7fa9cc916b10",
    "scrolled": false
   },
   "outputs": [
    {
     "name": "stderr",
     "output_type": "stream",
     "text": [
      "C:\\Users\\JULIAN~1.PER\\AppData\\Local\\Temp/ipykernel_8928/2974363026.py:26: DeprecationWarning: The default dtype for empty Series will be 'object' instead of 'float64' in a future version. Specify a dtype explicitly to silence this warning.\n",
      "  y = df_linksmall_movies.apply(lambda x: pd.Series(x['keywords']),axis=1).stack().reset_index(level=1, drop=True)\n"
     ]
    }
   ],
   "source": [
    "df_keywords['id'] = df_keywords['id'].astype('string')\n",
    "\n",
    "df_movies = df_movies.merge(df_keywords, on='id')\n",
    "links_small.columns =['movieid','imdbId','id']\n",
    "links_small.dropna(inplace=True)\n",
    "links_small['id'] = links_small['id'].astype('int')\n",
    "links_small['id'] = links_small['id'].astype('string')\n",
    "\n",
    "df_linksmall_movies = df_movies.merge(links_small, on='id',how = 'inner')\n",
    "df_linksmall_movies['cast'] = df_linksmall_movies['cast'].apply(literal_eval)\n",
    "df_linksmall_movies['crew'] = df_linksmall_movies['crew'].apply(literal_eval)\n",
    "df_linksmall_movies['keywords'] = df_linksmall_movies['keywords'].apply(literal_eval)\n",
    "df_linksmall_movies['cast_size'] = df_linksmall_movies['cast'].apply(lambda x: len(x))\n",
    "df_linksmall_movies['crew_size'] = df_linksmall_movies['crew'].apply(lambda x: len(x))\n",
    "\n",
    "df_linksmall_movies['cast'] = df_linksmall_movies['cast'].apply(lambda x: [i['name'] for i in x] if isinstance(x, list) else [])\n",
    "df_linksmall_movies['cast'] = df_linksmall_movies['cast'].apply(lambda x: x[:3] if len(x) >=3 else x)\n",
    "df_linksmall_movies['cast'] = df_linksmall_movies['cast'].apply(lambda x: [str.lower(i.replace(\" \", \"\")) for i in x])\n",
    "\n",
    "df_linksmall_movies['keywords'] = df_linksmall_movies['keywords'].apply(lambda x: [i['name'] for i in x] if isinstance(x, list) else [])\n",
    "\n",
    "df_linksmall_movies['director'] = df_linksmall_movies['crew'].apply(getDirector)\n",
    "df_linksmall_movies['director'] = df_linksmall_movies['director'].astype('str').apply(lambda x: str.lower(x.replace(\" \", \"\")))\n",
    "df_linksmall_movies['director'] = df_linksmall_movies['director'].apply(lambda x: [x,x, x])\n",
    "\n",
    "y = df_linksmall_movies.apply(lambda x: pd.Series(x['keywords']),axis=1).stack().reset_index(level=1, drop=True)\n",
    "y.name = 'keyword'\n",
    "\n",
    "y = y.value_counts()\n",
    "y = y[y > 1]\n",
    "\n",
    "stemmer = nltk.stem.SnowballStemmer('english')\n",
    "\n",
    "def filterKeywords(x):\n",
    "    words = []\n",
    "    for i in x:\n",
    "        if i in y:\n",
    "            words.append(i)\n",
    "    return words\n",
    "\n",
    "df_linksmall_movies['keywords'] = df_linksmall_movies['keywords'].apply(filterKeywords)\n",
    "df_linksmall_movies['keywords'] = df_linksmall_movies['keywords'].apply(lambda x: [stemmer.stem(i) for i in x])\n",
    "df_linksmall_movies['keywords'] = df_linksmall_movies['keywords'].apply(lambda x: [str.lower(i.replace(\" \", \"\")) for i in x])\n",
    "df_linksmall_movies['soup'] = df_linksmall_movies['keywords'] + df_linksmall_movies['cast'] + df_linksmall_movies['director']\n",
    "df_linksmall_movies['soup'] = df_linksmall_movies['soup'].apply(lambda x: ' '.join(x))\n",
    "\n",
    "count = CountVectorizer(analyzer='word',ngram_range=(1, 2),min_df=0, stop_words='english')\n",
    "count_matrix = count.fit_transform(df_linksmall_movies['soup'])\n",
    "\n",
    "cosine_sim = cosine_similarity(count_matrix, count_matrix)\n",
    "\n",
    "df_linksmall_movies = df_linksmall_movies.reset_index()\n",
    "titles = df_linksmall_movies['title']\n",
    "indices = pd.Series(df_linksmall_movies.index, index=df_linksmall_movies['title'])"
   ]
  },
  {
   "cell_type": "code",
   "execution_count": 8,
   "metadata": {},
   "outputs": [
    {
     "data": {
      "text/plain": [
       "2120               Young and Innocent\n",
       "970                A Farewell to Arms\n",
       "2705    An American Werewolf in Paris\n",
       "983                      Maximum Risk\n",
       "1082                        The Doors\n",
       "2452           Relax... It's Just Sex\n",
       "1360                           Jaws 2\n",
       "1480                     Fathers' Day\n",
       "2467                         Ravenous\n",
       "3935                    Thirteen Days\n",
       "Name: title, dtype: object"
      ]
     },
     "execution_count": 8,
     "metadata": {},
     "output_type": "execute_result"
    }
   ],
   "source": [
    "getRecommendations('Star Wars',cosine_sim)"
   ]
  },
  {
   "cell_type": "markdown",
   "metadata": {},
   "source": [
    "<h3> Recomendação por filtragem colaborativa </h3>\n",
    "\n",
    "A filtragem colaborativa leva em conta as avaliações aos filmes de outros usuários com gostos similares"
   ]
  },
  {
   "cell_type": "code",
   "execution_count": 9,
   "metadata": {},
   "outputs": [],
   "source": [
    "def calculateUserSimilarity(ratings_matrix):\n",
    "    sim_matrix = pd.DataFrame(index=ratings_matrix.index, columns=ratings_matrix.index)\n",
    "    for i in ratings_matrix.index:\n",
    "        for j in ratings_matrix.index:\n",
    "            sim_matrix.loc[i,j] = 1 - (ratings_matrix.loc[i] - ratings_matrix.loc[j]).abs().sum()/(ratings_matrix.loc[i].count())\n",
    "    return sim_matrix\n",
    "\n",
    "def getUserRecommendations(user_id, ratings_matrix, sim_matrix):\n",
    "    similar_users = sim_matrix.loc[user_id].sort_values(ascending=False)[1:]\n",
    "    user_ratings = ratings_matrix.loc[user_id]\n",
    "    unrated_items = user_ratings[user_ratings==0].index\n",
    "    item_scores = []\n",
    "    for item in unrated_items:\n",
    "        score = 0\n",
    "        for sim_user, sim_score in similar_users.items():\n",
    "            if ratings_matrix.loc[sim_user,item] != 0:\n",
    "                score += sim_score * ratings_matrix.loc[sim_user,item]\n",
    "        item_scores.append((item, score))\n",
    "    recommendations = sorted(item_scores, key=lambda x:x[1], reverse=True)[:10]\n",
    "    return recommendations"
   ]
  },
  {
   "cell_type": "code",
   "execution_count": 10,
   "metadata": {},
   "outputs": [],
   "source": [
    "df_ratings = ratings_small[:3000]\n",
    "ratings_matrix = df_ratings.pivot_table(index=['userId'], columns=['movieId'], values='rating')\n",
    "ratings_matrix = ratings_matrix.fillna(0)\n",
    "similarity_matrix = calculateUserSimilarity(ratings_matrix)"
   ]
  },
  {
   "cell_type": "code",
   "execution_count": 11,
   "metadata": {},
   "outputs": [
    {
     "name": "stdout",
     "output_type": "stream",
     "text": [
      "Recomendações para o usuário 14:\n",
      "Item 318: 26.686914736323317\n",
      "Item 356: 22.531912272055205\n",
      "Item 2762: 18.75431246919665\n",
      "Item 527: 18.23533760473139\n",
      "Item 296: 16.646500739280434\n",
      "Item 50: 16.177550517496307\n",
      "Item 1197: 15.923607688516512\n",
      "Item 110: 13.971414489896501\n",
      "Item 1220: 13.553474618038443\n",
      "Item 588: 13.37678659438147\n"
     ]
    }
   ],
   "source": [
    "user_id=14\n",
    "recommendations = getUserRecommendations(user_id, ratings_matrix, similarity_matrix)\n",
    "print(f\"Recomendações para o usuário {user_id}:\")\n",
    "for item_id, score in recommendations:\n",
    "    print(f\"Item {item_id}: {score}\")"
   ]
  }
 ],
 "metadata": {
  "colab": {
   "provenance": []
  },
  "kernelspec": {
   "display_name": "Python 3 (ipykernel)",
   "language": "python",
   "name": "python3"
  },
  "language_info": {
   "codemirror_mode": {
    "name": "ipython",
    "version": 3
   },
   "file_extension": ".py",
   "mimetype": "text/x-python",
   "name": "python",
   "nbconvert_exporter": "python",
   "pygments_lexer": "ipython3",
   "version": "3.9.7"
  }
 },
 "nbformat": 4,
 "nbformat_minor": 1
}
