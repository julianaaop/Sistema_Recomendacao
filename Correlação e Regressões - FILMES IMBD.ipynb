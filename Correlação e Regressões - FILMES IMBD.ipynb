{
 "cells": [
  {
   "cell_type": "markdown",
   "metadata": {},
   "source": [
    "<center><b><font size=\"+2\"> CORRELAÇÃO E REGRESSÃO COM DADOS DE FILMES IMDB </font></b>\n"
   ]
  },
  {
   "cell_type": "code",
   "execution_count": 5,
   "metadata": {},
   "outputs": [],
   "source": [
    "import pandas as pd\n",
    "import numpy as np\n",
    "import matplotlib.pyplot as plt\n",
    "import seaborn as sns\n",
    "import math\n",
    "import joblib\n",
    "\n",
    "from biokit.viz import corrplot\n",
    "from sklearn.preprocessing import PolynomialFeatures, StandardScaler\n",
    "from sklearn.linear_model import LinearRegression, Ridge\n",
    "from sklearn.model_selection import train_test_split\n",
    "from sklearn.metrics import r2_score, mean_squared_error, mean_absolute_error\n",
    "\n",
    "df_credits = pd.read_csv(r'C:/Users/juliana/imbd_movies/credits.csv')\n",
    "df_movies = pd.read_csv(r'C:/Users/juliana/imbd_movies/movies_metadata.csv')"
   ]
  },
  {
   "cell_type": "code",
   "execution_count": 6,
   "metadata": {},
   "outputs": [],
   "source": [
    "def removeTextRows(df, columnName):\n",
    "    index_0=[]\n",
    "    \n",
    "    for i in df.itertuples():\n",
    "        myValue = getattr(i, columnName)\n",
    "        if(str.isdigit(myValue)):\n",
    "            index_0.append(i.Index)\n",
    "\n",
    "    df=df.loc[index_0] \n",
    "    df.reset_index(level=0, inplace=True)\n",
    "    return df   "
   ]
  },
  {
   "cell_type": "code",
   "execution_count": 7,
   "metadata": {
    "scrolled": false
   },
   "outputs": [],
   "source": [
    "df_credits['id'] = df_credits['id'].astype('string')\n",
    "df_movies['id'] = df_movies['id'].astype('string')\n",
    "df_movies['budget'] = df_movies['budget'].astype('string')\n",
    "\n",
    "df_movies = removeTextRows(df_movies,'budget')\n",
    "\n",
    "df_movies['budget']=pd.to_numeric(df_movies['budget'])\n",
    "df_movies['popularity']=pd.to_numeric(df_movies['popularity'])\n",
    "\n",
    "df_movies = df_movies.merge(df_credits,on='id')\n",
    "del df_credits\n",
    "\n",
    "df_movies = df_movies[['budget', 'popularity', 'revenue', 'runtime','vote_average', 'vote_count']]\n",
    "df_movies.dropna(inplace=True)"
   ]
  },
  {
   "cell_type": "markdown",
   "metadata": {},
   "source": [
    "<h2> Correlação </h2>"
   ]
  },
  {
   "cell_type": "code",
   "execution_count": 8,
   "metadata": {},
   "outputs": [
    {
     "name": "stderr",
     "output_type": "stream",
     "text": [
      "C:\\Users\\JULIAN~1.PER\\AppData\\Local\\Temp/ipykernel_2860/2042593155.py:8: DeprecationWarning: `np.bool` is a deprecated alias for the builtin `bool`. To silence this warning, use `bool` by itself. Doing this will not modify any behavior and is safe. If you specifically wanted the numpy scalar type, use `np.bool_` here.\n",
      "Deprecated in NumPy 1.20; for more details and guidance: https://numpy.org/devdocs/release/1.20.0-notes.html#deprecations\n",
      "  mask = np.triu(np.ones_like(matriz_corr, dtype=np.bool))\n"
     ]
    },
    {
     "data": {
      "image/png": "[encoded data removed]",
      "text/plain": [
       "<Figure size 936x576 with 2 Axes>"
      ]
     },
     "metadata": {
      "needs_background": "light"
     },
     "output_type": "display_data"
    }
   ],
   "source": [
    "plt.figure(figsize=(13, 8))\n",
    "\n",
    "#grafico_corr=corrplot.Corrplot(matriz_corr)\n",
    "#grafico_corr.plot()\n",
    "#plt.gcf().set_size_inches(13,8)\n",
    "\n",
    "matriz_corr=df_movies.corr()\n",
    "mask = np.triu(np.ones_like(matriz_corr, dtype=np.bool))\n",
    "hm = sns.heatmap(matriz_corr, mask=mask, vmin=-1, annot=True, cmap='BrBG')\n",
    "hm.set_title('Correlation Heatmap', fontdict={'fontsize':18})\n",
    "plt.show()\n"
   ]
  },
  {
   "cell_type": "markdown",
   "metadata": {},
   "source": [
    "<h2> Regressões </h2>"
   ]
  },
  {
   "cell_type": "code",
   "execution_count": 9,
   "metadata": {},
   "outputs": [],
   "source": [
    "X = df_movies[['budget', 'popularity', 'runtime', 'vote_average', 'vote_count']]\n",
    "y = df_movies['revenue']"
   ]
  },
  {
   "cell_type": "markdown",
   "metadata": {},
   "source": [
    "<h3> Regressão Linear Múltipla</h3>"
   ]
  },
  {
   "cell_type": "code",
   "execution_count": 10,
   "metadata": {},
   "outputs": [
    {
     "name": "stdout",
     "output_type": "stream",
     "text": [
      "MAE: 9737606.273367656\n",
      "MSE: 962228034085795.5\n",
      "RMSE: 31019800.677725114\n",
      "R²: 0.7052517397559228\n"
     ]
    }
   ],
   "source": [
    "# LINEAR \n",
    "\n",
    "X_train, X_test, y_train, y_test = train_test_split(X, y, test_size=0.2, random_state=42)\n",
    "\n",
    "model = LinearRegression()\n",
    "model.fit(X_train, y_train)\n",
    "y_pred_train = model.predict(X_train)\n",
    "y_pred_test = model.predict(X_test)\n",
    "r2_train = r2_score(y_train, y_pred_train)\n",
    "r2_test = r2_score(y_test, y_pred_test)\n",
    "    \n",
    "mse_multipla = mean_squared_error(y_test, y_pred_test)\n",
    "rmse_multipla = np.sqrt(mse_multipla)\n",
    "mae_multipla = mean_absolute_error(y_test,y_pred_test)\n",
    "r2_multipla = r2_score(y_test, y_pred_test)\n",
    "\n",
    "print('MAE:', mae_multipla)\n",
    "print('MSE:', mse_multipla)\n",
    "print('RMSE:', rmse_multipla)\n",
    "print('R²:', r2_multipla)\n"
   ]
  },
  {
   "cell_type": "markdown",
   "metadata": {},
   "source": [
    "<h3> Regressão de Ridge </h3>"
   ]
  },
  {
   "cell_type": "code",
   "execution_count": 11,
   "metadata": {},
   "outputs": [
    {
     "name": "stdout",
     "output_type": "stream",
     "text": [
      "R²: 0.7052542987397374\n",
      "MSE: 962219680089191.4\n"
     ]
    }
   ],
   "source": [
    "# RIDGE REGRESSION\n",
    "\n",
    "scaler = StandardScaler()\n",
    "X_train_scaled = scaler.fit_transform(X_train)\n",
    "\n",
    "alpha = 1.0 # parâmetro de regularização\n",
    "ridge = Ridge(alpha=alpha)\n",
    "ridge.fit(X_train_scaled, y_train)\n",
    "\n",
    "X_test_scaled = scaler.transform(X_test)\n",
    "y_pred = ridge.predict(X_test_scaled)\n",
    "\n",
    "r2_ridge = r2_score(y_test, y_pred)\n",
    "mse_ridge = mean_squared_error(y_test, y_pred)\n",
    "\n",
    "print('R²:', r2_ridge)\n",
    "print('MSE:', mse_ridge)\n"
   ]
  },
  {
   "cell_type": "markdown",
   "metadata": {},
   "source": [
    "<h3> Regressão Polinomial</h3>"
   ]
  },
  {
   "cell_type": "code",
   "execution_count": 12,
   "metadata": {},
   "outputs": [
    {
     "name": "stdout",
     "output_type": "stream",
     "text": [
      "O grau que maximiza o R2 no conjunto de treinamento é 2\n",
      "\n",
      "\n",
      "R²: 0.7963493202259795\n"
     ]
    }
   ],
   "source": [
    "# POLINOMIAL\n",
    "\n",
    "r2_scores = []\n",
    "MSEs = []\n",
    "for degree in range(1, 6):\n",
    "    poly = PolynomialFeatures(degree=degree)\n",
    "    X_poly = poly.fit_transform(X)\n",
    "    X_poly_train, X_poly_test, y_train, y_test = train_test_split(X_poly, y, test_size=0.2, random_state=42)\n",
    "    \n",
    "    model = LinearRegression()\n",
    "    model.fit(X_poly_train, y_train)\n",
    "    y_pred_train = model.predict(X_poly_train)\n",
    "    y_pred_test = model.predict(X_poly_test)\n",
    "    r2_train = r2_score(y_train, y_pred_train)\n",
    "    r2_test = r2_score(y_test, y_pred_test)\n",
    "    r2_scores.append((degree, r2_train, r2_test))\n",
    "    MSE = mean_squared_error(y_test, y_pred_test)\n",
    "    MSEs.append((degree, MSE))\n",
    "\n",
    "    \n",
    "max_r2_degree_train = max(r2_scores, key=lambda x: x[1])[0]\n",
    "print('O grau que maximiza o R2 no conjunto de treinamento é', max_r2_degree_train)\n",
    "\n",
    "poly = PolynomialFeatures(degree=max_r2_degree_train)\n",
    "X_poly = poly.fit_transform(df_movies[['budget', 'popularity', 'runtime', 'vote_average', 'vote_count']])\n",
    "\n",
    "model = LinearRegression()\n",
    "model.fit(X_poly, df_movies['revenue'])\n",
    "r2_polinomial = model.score(X_poly, df_movies['revenue'])\n",
    "\n",
    "print('\\n')\n",
    "print('R²:', r2_polinomial)"
   ]
  },
  {
   "cell_type": "markdown",
   "metadata": {},
   "source": [
    "<h3> Comparação de resultados </h3>"
   ]
  },
  {
   "cell_type": "code",
   "execution_count": 13,
   "metadata": {},
   "outputs": [
    {
     "name": "stdout",
     "output_type": "stream",
     "text": [
      "R² REGRESSÃO MÚLTIPLA: 0.7052517397559228\n",
      "R² - REGRESSÃO RIDGE: 0.7052542987397374\n",
      "R² - REGRESSÃO POLINOMIAL: 0.7963493202259795\n"
     ]
    }
   ],
   "source": [
    "print('R² REGRESSÃO MÚLTIPLA:', r2_multipla)\n",
    "print('R² - REGRESSÃO RIDGE:', r2_ridge)\n",
    "print('R² - REGRESSÃO POLINOMIAL:', r2_polinomial)"
   ]
  },
  {
   "cell_type": "markdown",
   "metadata": {},
   "source": [
    "<h3> Salvando o modelo da regressão polinomial </h3>"
   ]
  },
  {
   "cell_type": "code",
   "execution_count": 17,
   "metadata": {},
   "outputs": [],
   "source": [
    "joblib.dump(model, 'C:/Users/juliana/imbd_movies/model.pkl')\n"
   ]
  },
  {
   "cell_type": "markdown",
   "metadata": {},
   "source": [
    "<h3> Predizendo a receita com base nas variáveis independentes</h3>"
   ]
  },
  {
   "cell_type": "code",
   "execution_count": 15,
   "metadata": {},
   "outputs": [
    {
     "name": "stdout",
     "output_type": "stream",
     "text": [
      "Receita prevista: [11277516.91106535]\n"
     ]
    }
   ],
   "source": [
    "budget_data = df_movies['budget'].mean()\n",
    "popularity_data = df_movies['popularity'].mean()\n",
    "runtime_data = df_movies['runtime'].mean()\n",
    "vote_average_data = df_movies['vote_average'].mean()\n",
    "vote_count_data = df_movies['vote_count'].mean()\n",
    "\n",
    "X_new = np.column_stack((budget_data, popularity_data, runtime_data, vote_average_data, vote_count_data))\n",
    "\n",
    "poly = PolynomialFeatures(degree=max_r2_degree_train)\n",
    "X_new_poly = poly.fit_transform(X_new)\n",
    "y_new_pred = model.predict(X_new_poly)\n",
    "\n",
    "print(\"Receita prevista:\", y_new_pred)"
   ]
  }
 ],
 "metadata": {
  "kernelspec": {
   "display_name": "Python 3 (ipykernel)",
   "language": "python",
   "name": "python3"
  },
  "language_info": {
   "codemirror_mode": {
    "name": "ipython",
    "version": 3
   },
   "file_extension": ".py",
   "mimetype": "text/x-python",
   "name": "python",
   "nbconvert_exporter": "python",
   "pygments_lexer": "ipython3",
   "version": "3.9.7"
  }
 },
 "nbformat": 4,
 "nbformat_minor": 2
}
